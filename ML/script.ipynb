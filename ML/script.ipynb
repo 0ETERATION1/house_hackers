{
 "cells": [
  {
   "cell_type": "code",
   "execution_count": 6,
   "metadata": {},
   "outputs": [],
   "source": [
    "import pandas as pd\n"
   ]
  },
  {
   "cell_type": "code",
   "execution_count": 12,
   "metadata": {},
   "outputs": [
    {
     "name": "stdout",
     "output_type": "stream",
     "text": [
      "new_df columns: Index(['OBJECTID_12', 'ZIPCODE', 'ZIPCITY'], dtype='object')\n",
      "population_df columns: Index(['ZIP Code', 'Population', 'Housing Units', 'Households',\n",
      "       'Units avalible'],\n",
      "      dtype='object')\n",
      "avg_school_rating_df columns: Index(['ZIP', 'Hospital Count'], dtype='object')\n",
      "housing_prices_df columns: Index(['ZIPCODE', 'Housing price'], dtype='object')\n",
      "   OBJECTID_12 ZIPCODE        City  Population  Units_Available  \\\n",
      "0            4   20190      RESTON     22667.0          -2684.0   \n",
      "1            5   22101      MCLEAN     30708.0           5798.0   \n",
      "2            6   20124     CLIFTON     16152.0          -8692.0   \n",
      "3            7   22308  ALEXANDRIA     13679.0          -3507.0   \n",
      "4            9   20170     HERNDON     40257.0           8206.0   \n",
      "\n",
      "   Hospital Count  Housing_Price  \n",
      "0             3.0     641842.917  \n",
      "1             3.0    1567004.650  \n",
      "2             NaN     967277.193  \n",
      "3             NaN     930298.406  \n",
      "4             2.0     685473.820  \n"
     ]
    }
   ],
   "source": [
    "import pandas as pd\n",
    "\n",
    "# Read all CSV files\n",
    "new_df = pd.read_csv(\"/Users/vasantsaladi/Documents/GitHub/house_hackers/ML/new.csv\")\n",
    "population_df = pd.read_csv(\"/Users/vasantsaladi/Documents/GitHub/house_hackers/ML/population.csv\")\n",
    "avg_school_rating_df = pd.read_csv(\"/Users/vasantsaladi/Documents/GitHub/house_hackers/ML/zip_codes_with_hospital_counts.csv\")\n",
    "housing_prices_df = pd.read_csv(\"/Users/vasantsaladi/Documents/GitHub/house_hackers/ML/housing_prices.csv\")\n",
    "\n",
    "# Print column names for each DataFrame\n",
    "print(\"new_df columns:\", new_df.columns)\n",
    "print(\"population_df columns:\", population_df.columns)\n",
    "print(\"avg_school_rating_df columns:\", avg_school_rating_df.columns)\n",
    "print(\"housing_prices_df columns:\", housing_prices_df.columns)\n",
    "\n",
    "# Convert ZIP code columns to string type for consistent joining\n",
    "new_df['ZIPCODE'] = new_df['ZIPCODE'].astype(str)\n",
    "population_df['ZIP Code'] = population_df['ZIP Code'].astype(str)\n",
    "# Use the correct column name for avg_school_rating_df\n",
    "zip_code_column = avg_school_rating_df.columns[0]  # Assuming the ZIP code is the first column\n",
    "avg_school_rating_df[zip_code_column] = avg_school_rating_df[zip_code_column].astype(str)\n",
    "housing_prices_df['ZIPCODE'] = housing_prices_df['ZIPCODE'].astype(str)\n",
    "\n",
    "# Merge the dataframes\n",
    "merged_df = new_df.merge(population_df, left_on='ZIPCODE', right_on='ZIP Code', how='left')\n",
    "merged_df = merged_df.merge(avg_school_rating_df, left_on='ZIPCODE', right_on=zip_code_column, how='left')\n",
    "merged_df = merged_df.merge(housing_prices_df, on='ZIPCODE', how='left')\n",
    "\n",
    "# Clean up duplicate columns and rename for clarity\n",
    "merged_df = merged_df.drop(columns=['ZIP Code', zip_code_column])\n",
    "merged_df = merged_df.rename(columns={\n",
    "    'Population': 'ZIP_Population',\n",
    "    'Housing Units': 'ZIP_Housing_Units',\n",
    "    'Households': 'ZIP_Households',\n",
    "    'Units avalible': 'ZIP_Units_Available',\n",
    "    'Average GreatSchools Rating': 'ZIP_Avg_School_Rating',\n",
    "    'Housing price': 'ZIP_Housing_Price',\n",
    "    'ZIPCITY': 'City'\n",
    "})\n",
    "\n",
    "# Remove unnecessary columns and clean up column names\n",
    "merged_df = merged_df.drop(columns=['ZIP_Housing_Units', 'ZIP_Households'])\n",
    "merged_df.columns = [col if col == 'ZIPCODE' else col.replace('ZIP_', '') for col in merged_df.columns]\n",
    "\n",
    "# Display the first few rows of the final DataFrame\n",
    "print(merged_df.head())\n",
    "\n",
    "\n"
   ]
  },
  {
   "cell_type": "code",
   "execution_count": 14,
   "metadata": {},
   "outputs": [
    {
     "name": "stdout",
     "output_type": "stream",
     "text": [
      "Merged data has been exported to: /Users/vasantsaladi/Documents/GitHub/house_hackers/ML/merged_data.csv\n"
     ]
    }
   ],
   "source": [
    "# Export the merged DataFrame to a CSV file\n",
    "output_path = \"/Users/vasantsaladi/Documents/GitHub/house_hackers/ML/merged_data.csv\"\n",
    "merged_df.to_csv(output_path, index=False)\n",
    "\n",
    "print(f\"Merged data has been exported to: {output_path}\")\n",
    "\n"
   ]
  },
  {
   "cell_type": "code",
   "execution_count": 15,
   "metadata": {},
   "outputs": [
    {
     "name": "stdout",
     "output_type": "stream",
     "text": [
      "   ZIPCODE          City  Hospital Count\n",
      "0    20190        RESTON             3.0\n",
      "1    22101        MCLEAN             3.0\n",
      "2    20124       CLIFTON             0.0\n",
      "3    22308    ALEXANDRIA             0.0\n",
      "4    20170       HERNDON             2.0\n",
      "5    22183        VIENNA             0.0\n",
      "6    22079        LORTON             2.0\n",
      "7    22153   SPRINGFIELD             0.0\n",
      "8    22041  FALLS CHURCH             1.0\n",
      "9    20171       HERNDON             1.0\n",
      "Updated merged data has been saved.\n"
     ]
    }
   ],
   "source": [
    "\n",
    "# Read the merged data\n",
    "merged_df = pd.read_csv(\"/Users/vasantsaladi/Documents/GitHub/house_hackers/ML/merged_data.csv\")\n",
    "\n",
    "# Replace NaN values in the 'Hospital Count' column with 0\n",
    "merged_df['Hospital Count'] = merged_df['Hospital Count'].fillna(0)\n",
    "\n",
    "# Display the first few rows to verify the changes\n",
    "print(merged_df[['ZIPCODE', 'City', 'Hospital Count']].head(10))\n",
    "\n",
    "# Save the updated DataFrame back to CSV\n",
    "merged_df.to_csv(\"/Users/vasantsaladi/Documents/GitHub/house_hackers/ML/merged_data.csv\", index=False)\n",
    "\n",
    "print(\"Updated merged data has been saved.\")\n"
   ]
  },
  {
   "cell_type": "code",
   "execution_count": 16,
   "metadata": {},
   "outputs": [
    {
     "name": "stdout",
     "output_type": "stream",
     "text": [
      "   ZIPCODE          City  Avg_School_Rating\n",
      "0    20190        RESTON               4.00\n",
      "1    22101        MCLEAN               8.00\n",
      "2    20124       CLIFTON               5.33\n",
      "3    22308    ALEXANDRIA               6.00\n",
      "4    20170       HERNDON               3.17\n",
      "5    22183        VIENNA                NaN\n",
      "6    22079        LORTON               6.40\n",
      "7    22153   SPRINGFIELD               6.67\n",
      "8    22041  FALLS CHURCH               4.50\n",
      "9    20171       HERNDON               6.43\n",
      "Updated merged data with average school ratings has been saved.\n"
     ]
    }
   ],
   "source": [
    "# Join with average school ratings\n",
    "\n",
    "# Read the average school ratings data\n",
    "avg_school_ratings = pd.read_csv(\"/Users/vasantsaladi/Documents/GitHub/house_hackers/ML/average_school_ratings_by_zipcode.csv\")\n",
    "\n",
    "# Rename the columns to match the merged_df\n",
    "avg_school_ratings = avg_school_ratings.rename(columns={\n",
    "    'Zip Code': 'ZIPCODE',\n",
    "    'Average GreatSchools Rating': 'Avg_School_Rating'\n",
    "})\n",
    "\n",
    "# Merge the average school ratings with the existing merged_df\n",
    "merged_df = pd.merge(merged_df, avg_school_ratings, on='ZIPCODE', how='left')\n",
    "\n",
    "# Display the first few rows to verify the join\n",
    "print(merged_df[['ZIPCODE', 'City', 'Avg_School_Rating']].head(10))\n",
    "\n",
    "# Save the updated DataFrame back to CSV\n",
    "merged_df.to_csv(\"/Users/vasantsaladi/Documents/GitHub/house_hackers/ML/merged_data.csv\", index=False)\n",
    "\n",
    "print(\"Updated merged data with average school ratings has been saved.\")"
   ]
  }
 ],
 "metadata": {
  "kernelspec": {
   "display_name": "house",
   "language": "python",
   "name": "python3"
  },
  "language_info": {
   "codemirror_mode": {
    "name": "ipython",
    "version": 3
   },
   "file_extension": ".py",
   "mimetype": "text/x-python",
   "name": "python",
   "nbconvert_exporter": "python",
   "pygments_lexer": "ipython3",
   "version": "3.13.0"
  }
 },
 "nbformat": 4,
 "nbformat_minor": 2
}
